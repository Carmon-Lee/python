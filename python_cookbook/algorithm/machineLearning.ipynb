{
 "cells": [
  {
   "cell_type": "code",
   "execution_count": null,
   "metadata": {
    "collapsed": true
   },
   "outputs": [],
   "source": [
    "import numpy as np\n",
    "import matplotlib.pyplot as plt\n",
    "\n",
    "size=50\n",
    "x1=np.linspace(0,10,size)+np.random.rand(size)*5\n",
    "y1=2*x1+1+np.random.rand(size)*5\n",
    "\n",
    "x2=np.linspace(0,10,size)+np.random.randn(size)*1\n",
    "y2=2*x2+10+np.random.randn(size)*1\n",
    "\n",
    "plt.figure()\n",
    "plt.scatter(x1,y1,color='r',marker='s')\n",
    "plt.scatter(x2,y2,color='b',marker='o')\n",
    "plt.show()"
   ]
  }
 ],
 "metadata": {
  "kernelspec": {
   "display_name": "Python 2",
   "language": "python",
   "name": "python2"
  },
  "language_info": {
   "codemirror_mode": {
    "name": "ipython",
    "version": 2
   },
   "file_extension": ".py",
   "mimetype": "text/x-python",
   "name": "python",
   "nbconvert_exporter": "python",
   "pygments_lexer": "ipython2",
   "version": "2.7.6"
  }
 },
 "nbformat": 4,
 "nbformat_minor": 0
}

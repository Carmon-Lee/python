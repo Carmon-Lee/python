{
 "cells": [
  {
   "cell_type": "code",
   "execution_count": 1,
   "metadata": {
    "collapsed": true
   },
   "outputs": [],
   "source": [
    "import numpy as np\n",
    "import matplotlib.pyplot as plt\n",
    "from scipy.io.wavfile import write"
   ]
  },
  {
   "cell_type": "code",
   "execution_count": 26,
   "metadata": {},
   "outputs": [],
   "source": [
    "output_file='output_generated.wav'\n",
    "duration=2\n",
    "sampling_freq=44100\n",
    "tone_freq=16\n",
    "min_val=-2*np.pi\n",
    "max_val=2*np.pi\n"
   ]
  },
  {
   "cell_type": "code",
   "execution_count": 27,
   "metadata": {},
   "outputs": [],
   "source": [
    "t = np.linspace(min_val, max_val, duration * sampling_freq)\n",
    "audio = np.sin(2 * np.pi * tone_freq * t+10)\n",
    "audio+= np.sin(2 * np.pi * 55 * t+20)\n",
    "audio+= np.sin(2 * np.pi * 69 * t+30)\n",
    "noise = 0.4 * np.random.rand(duration * sampling_freq)\n",
    "# audio += noise"
   ]
  },
  {
   "cell_type": "code",
   "execution_count": 28,
   "metadata": {},
   "outputs": [],
   "source": [
    "scaling_factor = pow(2, 15) - 1\n",
    "audio_normalized = audio / np.max(np.abs(audio))\n",
    "audio_scaled=np.int16(audio_normalized*scaling_factor)\n"
   ]
  },
  {
   "cell_type": "code",
   "execution_count": 29,
   "metadata": {},
   "outputs": [],
   "source": [
    "write(output_file,sampling_freq,audio_scaled)"
   ]
  },
  {
   "cell_type": "code",
   "execution_count": 22,
   "metadata": {},
   "outputs": [],
   "source": []
  },
  {
   "cell_type": "code",
   "execution_count": null,
   "metadata": {},
   "outputs": [],
   "source": []
  }
 ],
 "metadata": {
  "kernelspec": {
   "display_name": "Python 2",
   "language": "python",
   "name": "python2"
  },
  "language_info": {
   "codemirror_mode": {
    "name": "ipython",
    "version": 2
   },
   "file_extension": ".py",
   "mimetype": "text/x-python",
   "name": "python",
   "nbconvert_exporter": "python",
   "pygments_lexer": "ipython2",
   "version": "2.7.6"
  }
 },
 "nbformat": 4,
 "nbformat_minor": 0
}

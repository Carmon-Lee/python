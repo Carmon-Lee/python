{
 "cells": [
  {
   "cell_type": "code",
   "execution_count": 1,
   "metadata": {
    "collapsed": true
   },
   "outputs": [],
   "source": [
    "import numpy as np\n",
    "import matplotlib.pyplot as plt\n",
    "from scipy.io import wavfile"
   ]
  },
  {
   "cell_type": "code",
   "execution_count": 2,
   "metadata": {},
   "outputs": [],
   "source": [
    "sampling_freq,audio=wavfile.read('/Users/yaowu/PycharmProjects/python3/ml/speech/music.wav')"
   ]
  },
  {
   "cell_type": "code",
   "execution_count": 3,
   "metadata": {},
   "outputs": [
    {
     "name": "stdout",
     "output_type": "stream",
     "text": [
      "frequency is: 16000\ntotal time is: 287.584 s\n"
     ]
    }
   ],
   "source": [
    "print('frequency is:',sampling_freq)\n",
    "print('total time is:',len(audio)/float(sampling_freq),'s')"
   ]
  },
  {
   "cell_type": "code",
   "execution_count": 4,
   "metadata": {},
   "outputs": [],
   "source": [
    "audio=audio/2**15"
   ]
  },
  {
   "cell_type": "code",
   "execution_count": 5,
   "metadata": {},
   "outputs": [],
   "source": [
    "len_audio=len(audio)"
   ]
  },
  {
   "cell_type": "code",
   "execution_count": null,
   "metadata": {},
   "outputs": [],
   "source": [
    "# x_values=np.arange(0,len(audio),1)/float(sampling_freq)\n",
    "# x_values*=1000\n",
    "# print(x_values)\n",
    "# plt.plot(x_values,audio,color='black')\n",
    "# # print(audio)\n",
    "# plt.xlabel('Time(ms)')\n",
    "# plt.ylabel('Amplitude')\n",
    "# plt.title('Audio signal')\n",
    "# plt.show()"
   ]
  },
  {
   "cell_type": "code",
   "execution_count": 10,
   "metadata": {
    "collapsed": false
   },
   "outputs": [
    {
     "name": "stdout",
     "output_type": "stream",
     "text": [
      "2300673\n"
     ]
    }
   ],
   "source": [
    "transformed_signal = np.fft.fft(audio)\n",
    "half_length = int(np.ceil((len_audio + 1) / 2.0))\n",
    "print(half_length)\n",
    "transformed_signal = abs(transformed_signal[0:half_length])\n",
    "transformed_signal /= float(len_audio)\n",
    "transformed_signal **= 2\n"
   ]
  },
  {
   "cell_type": "code",
   "execution_count": 11,
   "metadata": {},
   "outputs": [],
   "source": [
    "len_ts=len(transformed_signal)"
   ]
  },
  {
   "cell_type": "code",
   "execution_count": 12,
   "metadata": {},
   "outputs": [
    {
     "name": "stdout",
     "output_type": "stream",
     "text": [
      "[6.74131060e-10 8.06776279e-12 2.21875401e-11 ... 3.75981766e-12\n 1.30859778e-11 8.83809116e-13]\n"
     ]
    }
   ],
   "source": [
    "print(transformed_signal)"
   ]
  },
  {
   "cell_type": "code",
   "execution_count": 13,
   "metadata": {},
   "outputs": [],
   "source": [
    "if len_audio % 2:\n",
    "    transformed_signal[1:len_ts] *= 2\n",
    "else:\n",
    "    transformed_signal[1:len_ts - 1] *= 2\n"
   ]
  },
  {
   "cell_type": "code",
   "execution_count": 14,
   "metadata": {},
   "outputs": [],
   "source": [
    "power=np.log10(transformed_signal)"
   ]
  },
  {
   "cell_type": "code",
   "execution_count": 15,
   "metadata": {},
   "outputs": [],
   "source": [
    "x_values=np.arange(0,half_length,1)*(sampling_freq/len_audio)/1000.0"
   ]
  },
  {
   "cell_type": "code",
   "execution_count": 16,
   "metadata": {},
   "outputs": [
    {
     "data": {
      "image/png": "[encoded data removed]",
      "text/plain": [
       "<Figure size 432x288 with 1 Axes>"
      ]
     },
     "metadata": {},
     "output_type": "display_data"
    }
   ],
   "source": [
    "plt.plot(x_values,power)\n",
    "plt.show()"
   ]
  },
  {
   "cell_type": "code",
   "execution_count": null,
   "metadata": {},
   "outputs": [],
   "source": []
  }
 ],
 "metadata": {
  "kernelspec": {
   "display_name": "Python 2",
   "language": "python",
   "name": "python2"
  },
  "language_info": {
   "codemirror_mode": {
    "name": "ipython",
    "version": 2
   },
   "file_extension": ".py",
   "mimetype": "text/x-python",
   "name": "python",
   "nbconvert_exporter": "python",
   "pygments_lexer": "ipython2",
   "version": "2.7.6"
  }
 },
 "nbformat": 4,
 "nbformat_minor": 0
}

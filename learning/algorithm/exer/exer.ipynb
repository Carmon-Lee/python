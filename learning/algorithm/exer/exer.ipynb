{
 "cells": [
  {
   "cell_type": "code",
   "execution_count": null,
   "metadata": {
    "collapsed": true
   },
   "outputs": [],
   "source": [
    "class Solution:\n",
    "    def lemonadeChange(self, bills):\n",
    "        \"\"\"\n",
    "        :type bills: List[int]\n",
    "        :rtype: bool\n",
    "        \"\"\"\n",
    "        print(bills)\n",
    "        fivebill = 0\n",
    "        tenbill = 0\n",
    "        twentybill = 0\n",
    "        for i in bills:\n",
    "\n",
    "            if i == 5:\n",
    "                fivebill += 1\n",
    "            if i == 10 and fivebill > 0:\n",
    "                fivebill -= 1\n",
    "                tenbill += 1\n",
    "            if i == 20:\n",
    "                if tenbill>0 and fivebill>0:\n",
    "                    tenbill-=1\n",
    "                    fivebill-=1\n",
    "                    twentybill+=1\n",
    "                if tenbill==0 and fivebill>=3:\n",
    "                    fivebill -= 3\n",
    "                    twentybill += 1\n",
    "                else:\n",
    "                    return False\n",
    "            else:\n",
    "                return False\n",
    "        return True\n",
    "\n",
    "s = Solution()\n",
    "print(s.lemonadeChange([5, 5, 5, 10, 20]))\n"
   ]
  },
  {
   "cell_type": "code",
   "execution_count": null,
   "metadata": {},
   "outputs": [],
   "source": []
  }
 ],
 "metadata": {
  "kernelspec": {
   "display_name": "Python 2",
   "language": "python",
   "name": "python2"
  },
  "language_info": {
   "codemirror_mode": {
    "name": "ipython",
    "version": 2
   },
   "file_extension": ".py",
   "mimetype": "text/x-python",
   "name": "python",
   "nbconvert_exporter": "python",
   "pygments_lexer": "ipython2",
   "version": "2.7.6"
  }
 },
 "nbformat": 4,
 "nbformat_minor": 0
}

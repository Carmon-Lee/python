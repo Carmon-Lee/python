{
 "cells": [
  {
   "cell_type": "code",
   "execution_count": 1,
   "metadata": {
    "collapsed": true
   },
   "outputs": [],
   "source": [
    "import pandas as pd\n",
    "import numpy as np\n",
    "import matplotlib.pyplot as plt"
   ]
  },
  {
   "cell_type": "code",
   "execution_count": 2,
   "metadata": {},
   "outputs": [],
   "source": [
    "s = pd.Series([1,3,5,np.nan,6,8])"
   ]
  },
  {
   "cell_type": "code",
   "execution_count": 3,
   "metadata": {},
   "outputs": [
    {
     "data": {
      "text/plain": [
       "0    1.0\n1    3.0\n2    5.0\n3    NaN\n4    6.0\n5    8.0\ndtype: float64"
      ]
     },
     "execution_count": 3,
     "metadata": {},
     "output_type": "execute_result"
    }
   ],
   "source": [
    "s"
   ]
  },
  {
   "cell_type": "code",
   "execution_count": 4,
   "metadata": {},
   "outputs": [],
   "source": [
    "datas=pd.date_range('20130228',periods=6)"
   ]
  },
  {
   "cell_type": "code",
   "execution_count": 5,
   "metadata": {},
   "outputs": [
    {
     "data": {
      "text/plain": [
       "DatetimeIndex(['2013-02-28', '2013-03-01', '2013-03-02', '2013-03-03',\n               '2013-03-04', '2013-03-05'],\n              dtype='datetime64[ns]', freq='D')"
      ]
     },
     "execution_count": 5,
     "metadata": {},
     "output_type": "execute_result"
    }
   ],
   "source": [
    "datas"
   ]
  },
  {
   "cell_type": "code",
   "execution_count": 6,
   "metadata": {},
   "outputs": [],
   "source": [
    "df=pd.DataFrame(np.random.randn(6,4),index=datas,columns=list('ABCD'))"
   ]
  },
  {
   "cell_type": "code",
   "execution_count": 8,
   "metadata": {},
   "outputs": [
    {
     "name": "stdout",
     "output_type": "stream",
     "text": [
      "                   A         B         C         D\n2013-02-28  0.216932 -0.632858  0.114741  0.113646\n2013-03-01  0.339256  0.584628  0.585693 -0.976138\n2013-03-02 -0.100038  1.036309  1.001151  1.079114\n2013-03-03 -0.224951  0.285659 -0.790488  1.320639\n2013-03-04 -0.030991  1.400192 -1.564982 -0.848517\n2013-03-05 -0.610900 -0.066182  0.402252  2.084925\n"
     ]
    }
   ],
   "source": [
    "print(df)"
   ]
  },
  {
   "cell_type": "code",
   "execution_count": 10,
   "metadata": {},
   "outputs": [
    {
     "name": "stdout",
     "output_type": "stream",
     "text": [
      "                   A         B         C         D\n2013-02-28  0.216932 -0.632858  0.114741  0.113646\n2013-03-01  0.339256  0.584628  0.585693 -0.976138\n2013-03-02 -0.100038  1.036309  1.001151  1.079114\n2013-03-03 -0.224951  0.285659 -0.790488  1.320639\n2013-03-04 -0.030991  1.400192 -1.564982 -0.848517\n"
     ]
    }
   ],
   "source": [
    "print(df.head())"
   ]
  },
  {
   "cell_type": "code",
   "execution_count": 11,
   "metadata": {},
   "outputs": [
    {
     "name": "stdout",
     "output_type": "stream",
     "text": [
      "                   A         B         C         D\n2013-03-04 -0.030991  1.400192 -1.564982 -0.848517\n2013-03-05 -0.610900 -0.066182  0.402252  2.084925\n"
     ]
    }
   ],
   "source": [
    "print(df.tail(2))"
   ]
  },
  {
   "cell_type": "code",
   "execution_count": 12,
   "metadata": {},
   "outputs": [
    {
     "name": "stdout",
     "output_type": "stream",
     "text": [
      "DatetimeIndex(['2013-02-28', '2013-03-01', '2013-03-02', '2013-03-03',\n               '2013-03-04', '2013-03-05'],\n              dtype='datetime64[ns]', freq='D')\n"
     ]
    }
   ],
   "source": [
    "print(df.index)"
   ]
  },
  {
   "cell_type": "code",
   "execution_count": 13,
   "metadata": {},
   "outputs": [
    {
     "name": "stdout",
     "output_type": "stream",
     "text": [
      "Index(['A', 'B', 'C', 'D'], dtype='object')\n"
     ]
    }
   ],
   "source": [
    "print(df.columns)"
   ]
  },
  {
   "cell_type": "code",
   "execution_count": 14,
   "metadata": {},
   "outputs": [
    {
     "data": {
      "text/plain": [
       "array([[ 0.21693153, -0.63285834,  0.11474118,  0.11364635],\n       [ 0.33925583,  0.58462776,  0.58569297, -0.97613758],\n       [-0.10003809,  1.03630867,  1.00115079,  1.07911427],\n       [-0.22495142,  0.28565902, -0.79048845,  1.32063857],\n       [-0.03099136,  1.40019199, -1.56498179, -0.84851732],\n       [-0.61089999, -0.06618234,  0.40225174,  2.08492476]])"
      ]
     },
     "execution_count": 14,
     "metadata": {},
     "output_type": "execute_result"
    }
   ],
   "source": [
    "df.values"
   ]
  },
  {
   "cell_type": "code",
   "execution_count": 16,
   "metadata": {},
   "outputs": [
    {
     "name": "stdout",
     "output_type": "stream",
     "text": [
      "              A         B         C         D\ncount  6.000000  6.000000  6.000000  6.000000\nmean  -0.068449  0.434624 -0.041939  0.462278\nstd    0.337287  0.738832  0.957476  1.237661\nmin   -0.610900 -0.632858 -1.564982 -0.976138\n25%   -0.193723  0.021778 -0.564181 -0.607976\n50%   -0.065515  0.435143  0.258496  0.596380\n75%    0.154951  0.923388  0.539833  1.260257\nmax    0.339256  1.400192  1.001151  2.084925\n"
     ]
    }
   ],
   "source": [
    "print(df.describe())"
   ]
  },
  {
   "cell_type": "code",
   "execution_count": 17,
   "metadata": {},
   "outputs": [
    {
     "name": "stdout",
     "output_type": "stream",
     "text": [
      "   2013-02-28  2013-03-01  2013-03-02  2013-03-03  2013-03-04  2013-03-05\nA    0.216932    0.339256   -0.100038   -0.224951   -0.030991   -0.610900\nB   -0.632858    0.584628    1.036309    0.285659    1.400192   -0.066182\nC    0.114741    0.585693    1.001151   -0.790488   -1.564982    0.402252\nD    0.113646   -0.976138    1.079114    1.320639   -0.848517    2.084925\n"
     ]
    }
   ],
   "source": [
    "print(df.T)"
   ]
  },
  {
   "cell_type": "code",
   "execution_count": null,
   "metadata": {},
   "outputs": [],
   "source": []
  }
 ],
 "metadata": {
  "kernelspec": {
   "display_name": "Python 2",
   "language": "python",
   "name": "python2"
  },
  "language_info": {
   "codemirror_mode": {
    "name": "ipython",
    "version": 2
   },
   "file_extension": ".py",
   "mimetype": "text/x-python",
   "name": "python",
   "nbconvert_exporter": "python",
   "pygments_lexer": "ipython2",
   "version": "2.7.6"
  }
 },
 "nbformat": 4,
 "nbformat_minor": 0
}
